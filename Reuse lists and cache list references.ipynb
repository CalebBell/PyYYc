{
 "cells": [
  {
   "cell_type": "code",
   "execution_count": 1,
   "metadata": {
    "collapsed": true
   },
   "outputs": [],
   "source": [
    "x = [1.214, 543346.235, 65.87653, 3463.346, 4532.234, 9.0, 4.23, 9.3]\n",
    "N = len(x)"
   ]
  },
  {
   "cell_type": "code",
   "execution_count": 2,
   "metadata": {
    "collapsed": false
   },
   "outputs": [
    {
     "name": "stdout",
     "output_type": "stream",
     "text": [
      "12.6 µs ± 660 ns per loop (mean ± std. dev. of 7 runs, 100000 loops each)\n"
     ]
    }
   ],
   "source": [
    "def to_time_bad_jacobian(x):\n",
    "    jac = []\n",
    "    for i in range(N):\n",
    "        row = []\n",
    "        for j in range(N):\n",
    "            v = x[i]*1.12412+x[j]*653.3245\n",
    "            row.append(v)\n",
    "        jac.append(row)\n",
    "    return jac\n",
    "%timeit to_time_bad_jacobian(x)"
   ]
  },
  {
   "cell_type": "code",
   "execution_count": 3,
   "metadata": {
    "collapsed": false
   },
   "outputs": [
    {
     "name": "stdout",
     "output_type": "stream",
     "text": [
      "11.9 µs ± 1.49 µs per loop (mean ± std. dev. of 7 runs, 100000 loops each)\n"
     ]
    }
   ],
   "source": [
    "jac = [[0.0]*N for _ in range(N)]\n",
    "def to_time_good_jacobian(x):\n",
    "    for i in range(N):\n",
    "        for j in range(N):\n",
    "            jac[i][j] = x[i]*1.12412+x[j]*653.3245\n",
    "    return jac\n",
    "%timeit to_time_good_jacobian(x)"
   ]
  },
  {
   "cell_type": "code",
   "execution_count": 4,
   "metadata": {
    "collapsed": false
   },
   "outputs": [
    {
     "name": "stdout",
     "output_type": "stream",
     "text": [
      "7.28 µs ± 65.7 ns per loop (mean ± std. dev. of 7 runs, 100000 loops each)\n"
     ]
    }
   ],
   "source": [
    "def to_time_best_jacobian(x):\n",
    "    for i in range(N):\n",
    "        row = jac[i]\n",
    "        t0 = x[i]*1.12412\n",
    "        for j in range(N):\n",
    "            row[j] = t0 + x[j]*653.3245\n",
    "    return jac\n",
    "%timeit to_time_best_jacobian(x)"
   ]
  },
  {
   "cell_type": "code",
   "execution_count": null,
   "metadata": {
    "collapsed": true
   },
   "outputs": [],
   "source": []
  }
 ],
 "metadata": {
  "kernelspec": {
   "display_name": "Python 3",
   "language": "python",
   "name": "python3"
  },
  "language_info": {
   "codemirror_mode": {
    "name": "ipython",
    "version": 3
   },
   "file_extension": ".py",
   "mimetype": "text/x-python",
   "name": "python",
   "nbconvert_exporter": "python",
   "pygments_lexer": "ipython3",
   "version": "3.7.5"
  }
 },
 "nbformat": 4,
 "nbformat_minor": 1
}
