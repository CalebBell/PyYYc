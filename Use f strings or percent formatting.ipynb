{
 "cells": [
  {
   "cell_type": "code",
   "execution_count": 19,
   "metadata": {
    "collapsed": false,
    "scrolled": true
   },
   "outputs": [
    {
     "name": "stdout",
     "output_type": "stream",
     "text": [
      "898 ns ± 8.67 ns per loop (mean ± std. dev. of 7 runs, 1000000 loops each)\n",
      "1.51 µs ± 8.36 ns per loop (mean ± std. dev. of 7 runs, 1000000 loops each)\n",
      "916 ns ± 15.1 ns per loop (mean ± std. dev. of 7 runs, 1000000 loops each)\n"
     ]
    }
   ],
   "source": [
    "apples = 'golden'\n",
    "bananas = 'yellow'\n",
    "numbers = 13253215.1351325\n",
    "\n",
    "def to_time_old():\n",
    "    return 'I can use format %s %s %s' %(apples, bananas, numbers)\n",
    "def to_time_format():\n",
    "    return 'I can use format {apples} {bananas} {numbers}'.format(\n",
    "        apples=apples, bananas=bananas, numbers=numbers)\n",
    "def to_time_f_string():\n",
    "    return f'I can use format {apples} {bananas} {numbers}'\n",
    "\n",
    "%timeit to_time_old()\n",
    "%timeit to_time_format()\n",
    "%timeit to_time_f_string()"
   ]
  },
  {
   "cell_type": "code",
   "execution_count": 20,
   "metadata": {
    "collapsed": false
   },
   "outputs": [],
   "source": [
    "import dis\n",
    "# dis.dis(to_time_old)\n",
    "# dis.dis(to_time_format)"
   ]
  }
 ],
 "metadata": {
  "kernelspec": {
   "display_name": "Python 3",
   "language": "python",
   "name": "python3"
  },
  "language_info": {
   "codemirror_mode": {
    "name": "ipython",
    "version": 3
   },
   "file_extension": ".py",
   "mimetype": "text/x-python",
   "name": "python",
   "nbconvert_exporter": "python",
   "pygments_lexer": "ipython3",
   "version": "3.7.5"
  }
 },
 "nbformat": 4,
 "nbformat_minor": 1
}
