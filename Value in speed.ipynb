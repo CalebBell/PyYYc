{
 "cells": [
  {
   "cell_type": "code",
   "execution_count": 3,
   "metadata": {
    "collapsed": true
   },
   "outputs": [],
   "source": [
    "import numpy as np\n"
   ]
  },
  {
   "cell_type": "code",
   "execution_count": 4,
   "metadata": {
    "collapsed": false
   },
   "outputs": [
    {
     "name": "stdout",
     "output_type": "stream",
     "text": [
      "5.38 µs ± 134 ns per loop (mean ± std. dev. of 7 runs, 100000 loops each)\n",
      "46.3 ns ± 0.851 ns per loop (mean ± std. dev. of 7 runs, 10000000 loops each)\n",
      "92.8 ns ± 1.25 ns per loop (mean ± std. dev. of 7 runs, 10000000 loops each)\n",
      "7.84 µs ± 47.8 ns per loop (mean ± std. dev. of 7 runs, 100000 loops each)\n"
     ]
    }
   ],
   "source": [
    "a = list(range(1000))\n",
    "b = set(range(1000))\n",
    "c = range(1000)\n",
    "d = np.arange(1000)\n",
    "%timeit 543 in a\n",
    "%timeit 543 in b\n",
    "%timeit 543 in c\n",
    "%timeit 543 in d"
   ]
  },
  {
   "cell_type": "code",
   "execution_count": null,
   "metadata": {
    "collapsed": true
   },
   "outputs": [],
   "source": []
  }
 ],
 "metadata": {
  "kernelspec": {
   "display_name": "Python 3",
   "language": "python",
   "name": "python3"
  },
  "language_info": {
   "codemirror_mode": {
    "name": "ipython",
    "version": 3
   },
   "file_extension": ".py",
   "mimetype": "text/x-python",
   "name": "python",
   "nbconvert_exporter": "python",
   "pygments_lexer": "ipython3",
   "version": "3.7.5"
  }
 },
 "nbformat": 4,
 "nbformat_minor": 1
}
