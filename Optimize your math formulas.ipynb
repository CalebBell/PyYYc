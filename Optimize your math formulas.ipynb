{
 "cells": [
  {
   "cell_type": "code",
   "execution_count": 11,
   "metadata": {
    "collapsed": false
   },
   "outputs": [
    {
     "name": "stdout",
     "output_type": "stream",
     "text": [
      "498 ns ± 5.7 ns per loop (mean ± std. dev. of 7 runs, 1000000 loops each)\n",
      "220 ns ± 2.16 ns per loop (mean ± std. dev. of 7 runs, 1000000 loops each)\n"
     ]
    }
   ],
   "source": [
    "from math import log, sqrt\n",
    "\n",
    "def bad_formula(a, b):\n",
    "    return (((log(a) + log(b))/5)**2)/(2+sqrt(3))\n",
    "\n",
    "def good_formula(a, b):\n",
    "    t = 0.2*log(a*b)\n",
    "    return 0.2679491924311227*t*t # 1/(2+sqrt(3))\n",
    "\n",
    "%timeit bad_formula(3, 4)\n",
    "%timeit good_formula(3.0, 4.0)"
   ]
  },
  {
   "cell_type": "code",
   "execution_count": null,
   "metadata": {
    "collapsed": true
   },
   "outputs": [],
   "source": []
  }
 ],
 "metadata": {
  "kernelspec": {
   "display_name": "Python 3",
   "language": "python",
   "name": "python3"
  },
  "language_info": {
   "codemirror_mode": {
    "name": "ipython",
    "version": 3
   },
   "file_extension": ".py",
   "mimetype": "text/x-python",
   "name": "python",
   "nbconvert_exporter": "python",
   "pygments_lexer": "ipython3",
   "version": "3.7.5"
  }
 },
 "nbformat": 4,
 "nbformat_minor": 1
}
