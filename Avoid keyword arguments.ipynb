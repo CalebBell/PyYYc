{
 "cells": [
  {
   "cell_type": "code",
   "execution_count": 5,
   "metadata": {
    "collapsed": false
   },
   "outputs": [
    {
     "name": "stdout",
     "output_type": "stream",
     "text": [
      "185 ns ± 0.731 ns per loop (mean ± std. dev. of 7 runs, 10000000 loops each)\n",
      "211 ns ± 2.71 ns per loop (mean ± std. dev. of 7 runs, 1000000 loops each)\n",
      "223 ns ± 3.54 ns per loop (mean ± std. dev. of 7 runs, 1000000 loops each)\n",
      "186 ns ± 0.837 ns per loop (mean ± std. dev. of 7 runs, 10000000 loops each)\n",
      "215 ns ± 1.7 ns per loop (mean ± std. dev. of 7 runs, 1000000 loops each)\n"
     ]
    }
   ],
   "source": [
    "def func_all_args(a, b, c, d, e, f):\n",
    "    return a\n",
    "\n",
    "def func_default_args(a=1.0, b=2.453, c=32.42, d=2.0, e=4.0, f=9.0):\n",
    "    return a\n",
    "\n",
    "a, b, c, d, e, f = 1.0, 2.0, 4.0, 9.0, 64.0, 317.0\n",
    "\n",
    "%timeit func_all_args(a, b, c, d, e, f)\n",
    "%timeit func_all_args(a, b, c, d=d, e=e, f=f)\n",
    "%timeit func_all_args(a=a, b=b, c=c, d=d, e=e, f=f)\n",
    "%timeit func_default_args(a, b, c, d, e, f)\n",
    "%timeit func_default_args(a=a, b=b, c=c, d=d, e=e, f=f)"
   ]
  },
  {
   "cell_type": "code",
   "execution_count": null,
   "metadata": {
    "collapsed": true
   },
   "outputs": [],
   "source": []
  }
 ],
 "metadata": {
  "kernelspec": {
   "display_name": "Python 3",
   "language": "python",
   "name": "python3"
  },
  "language_info": {
   "codemirror_mode": {
    "name": "ipython",
    "version": 3
   },
   "file_extension": ".py",
   "mimetype": "text/x-python",
   "name": "python",
   "nbconvert_exporter": "python",
   "pygments_lexer": "ipython3",
   "version": "3.7.5"
  }
 },
 "nbformat": 4,
 "nbformat_minor": 1
}
