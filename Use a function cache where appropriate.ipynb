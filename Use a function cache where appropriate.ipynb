{
 "cells": [
  {
   "cell_type": "code",
   "execution_count": 29,
   "metadata": {
    "collapsed": false
   },
   "outputs": [
    {
     "name": "stdout",
     "output_type": "stream",
     "text": [
      "583 ms ± 0 ns per loop (mean ± std. dev. of 1 run, 1 loop each)\n",
      "19.9 µs ± 417 ns per loop (mean ± std. dev. of 7 runs, 100000 loops each)\n"
     ]
    }
   ],
   "source": [
    "from functools import lru_cache\n",
    "N = 30\n",
    "def to_time_naive():\n",
    "    def fibonacci_number(n):\n",
    "        if n == 0: return 0\n",
    "        if n == 1: return 1\n",
    "        return fibonacci_number(n-1) + fibonacci_number(n-2)\n",
    "    return [fibonacci_number(i) for i in range(N)]\n",
    "\n",
    "def to_time_lru():\n",
    "    @lru_cache(maxsize=1024)\n",
    "    def fibonacci_number(n):\n",
    "        if n == 0: return 0\n",
    "        if n == 1: return 1\n",
    "        return fibonacci_number(n-1) + fibonacci_number(n-2)\n",
    "    return [fibonacci_number(i) for i in range(N)]\n",
    "\n",
    "%timeit -n 1 -r 1 to_time_naive()\n",
    "%timeit to_time_lru()"
   ]
  },
  {
   "cell_type": "code",
   "execution_count": null,
   "metadata": {
    "collapsed": true
   },
   "outputs": [],
   "source": [
    "def to_time_custom_cache():\n",
    "    fib_cache = {0: 0, 1: 1, 2: 1}\n",
    "    def fibonacci_number_cached(n):\n",
    "        try:\n",
    "            return fib_cache[n]\n",
    "        except KeyError:\n",
    "            try:\n",
    "                fib_n_minus_1 = fib_cache[n-1]\n",
    "            except KeyError:\n",
    "                fib_n_minus_1 = fibonacci_number_cached(n-1)\n",
    "            fib_n_minus_2 = fib_cache[n-2]\n",
    "            fib_n = fib_n_minus_1 + fib_n_minus_2\n",
    "            fib_cache[n] = fib_n\n",
    "            return fib_n\n",
    "    return [fibonacci_number_cached(i) for i in range(N)]\n",
    "\n",
    "%timeit to_time_custom_cache()"
   ]
  }
 ],
 "metadata": {
  "kernelspec": {
   "display_name": "Python 3",
   "language": "python",
   "name": "python3"
  },
  "language_info": {
   "codemirror_mode": {
    "name": "ipython",
    "version": 3
   },
   "file_extension": ".py",
   "mimetype": "text/x-python",
   "name": "python",
   "nbconvert_exporter": "python",
   "pygments_lexer": "ipython3",
   "version": "3.7.5"
  }
 },
 "nbformat": 4,
 "nbformat_minor": 1
}
