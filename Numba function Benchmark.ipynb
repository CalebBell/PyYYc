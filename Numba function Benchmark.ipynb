{
 "cells": [
  {
   "cell_type": "code",
   "execution_count": 17,
   "metadata": {
    "collapsed": false
   },
   "outputs": [
    {
     "name": "stdout",
     "output_type": "stream",
     "text": [
      "53 ms ± 132 µs per loop (mean ± std. dev. of 7 runs, 10 loops each)\n",
      "8.23 ms ± 146 µs per loop (mean ± std. dev. of 3 runs, 100 loops each)\n",
      "7.92 ms ± 605 µs per loop (mean ± std. dev. of 3 runs, 100 loops each)\n",
      "4.77 ms ± 316 µs per loop (mean ± std. dev. of 3 runs, 100 loops each)\n",
      "2.15 ms ± 270 µs per loop (mean ± std. dev. of 7 runs, 1 loop each)\n"
     ]
    }
   ],
   "source": [
    "from math import exp\n",
    "import numpy as np\n",
    "from numba import njit\n",
    "\n",
    "def test_exp(n):\n",
    "    tot = 0.0\n",
    "    for i in range(n):\n",
    "        tot += exp(i*1e-10)-1.0\n",
    "    return tot\n",
    "\n",
    "def test_exp_np(n):\n",
    "    return np.sum(np.exp(np.arange(n)*1e-10)-1)\n",
    "\n",
    "@njit()\n",
    "def test_exp_numba(n):\n",
    "    return np.sum(np.exp(np.arange(n)*1e-10)-1.0)\n",
    "\n",
    "@njit()\n",
    "def test_exp_faster_numba(n):\n",
    "    tot = 0.0\n",
    "    for i in range(n):\n",
    "        tot += np.exp(i*1e-10)-1.0\n",
    "    return tot\n",
    "\n",
    "test_exp_numba_parallel = njit(test_exp_np, parallel=True, fastmath=True)\n",
    "\n",
    "N = 400000\n",
    "%timeit test_exp(N)\n",
    "%timeit -n 100 -r 3 test_exp_np(N)\n",
    "%timeit -n 100 -r 3 test_exp_numba(N)\n",
    "%timeit -n 100 -r 3 test_exp_faster_numba(N)\n",
    "%timeit test_exp_numba_parallel(N)"
   ]
  },
  {
   "cell_type": "code",
   "execution_count": null,
   "metadata": {
    "collapsed": false
   },
   "outputs": [],
   "source": []
  },
  {
   "cell_type": "code",
   "execution_count": null,
   "metadata": {
    "collapsed": true
   },
   "outputs": [],
   "source": []
  }
 ],
 "metadata": {
  "kernelspec": {
   "display_name": "Python 3",
   "language": "python",
   "name": "python3"
  },
  "language_info": {
   "codemirror_mode": {
    "name": "ipython",
    "version": 3
   },
   "file_extension": ".py",
   "mimetype": "text/x-python",
   "name": "python",
   "nbconvert_exporter": "python",
   "pygments_lexer": "ipython3",
   "version": "3.7.5"
  }
 },
 "nbformat": 4,
 "nbformat_minor": 1
}
